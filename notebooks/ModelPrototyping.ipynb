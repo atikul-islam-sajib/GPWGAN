{
 "cells": [
  {
   "cell_type": "code",
   "execution_count": 1,
   "metadata": {},
   "outputs": [],
   "source": [
    "import warnings\n",
    "\n",
    "warnings.filterwarnings(\"ignore\")\n",
    "\n",
    "import numpy as np\n",
    "import pandas as pd\n",
    "import matplotlib.pyplot as plt\n",
    "import torch\n",
    "import torch.nn as nn\n",
    "import torch.optim as optim\n",
    "from torchvision import datasets, transforms\n",
    "from torch.utils.data import DataLoader\n",
    "from collections import OrderedDict"
   ]
  },
  {
   "cell_type": "code",
   "execution_count": 2,
   "metadata": {},
   "outputs": [
    {
     "name": "stderr",
     "output_type": "stream",
     "text": [
      "2.0%"
     ]
    },
    {
     "name": "stdout",
     "output_type": "stream",
     "text": [
      "Downloading http://yann.lecun.com/exdb/mnist/train-images-idx3-ubyte.gz\n",
      "Downloading http://yann.lecun.com/exdb/mnist/train-images-idx3-ubyte.gz to ../data/raw/MNIST/raw/train-images-idx3-ubyte.gz\n"
     ]
    },
    {
     "name": "stderr",
     "output_type": "stream",
     "text": [
      "100.0%\n"
     ]
    },
    {
     "name": "stdout",
     "output_type": "stream",
     "text": [
      "Extracting ../data/raw/MNIST/raw/train-images-idx3-ubyte.gz to ../data/raw/MNIST/raw\n",
      "\n",
      "Downloading http://yann.lecun.com/exdb/mnist/train-labels-idx1-ubyte.gz\n"
     ]
    },
    {
     "name": "stderr",
     "output_type": "stream",
     "text": [
      "100.0%"
     ]
    },
    {
     "name": "stdout",
     "output_type": "stream",
     "text": [
      "Downloading http://yann.lecun.com/exdb/mnist/train-labels-idx1-ubyte.gz to ../data/raw/MNIST/raw/train-labels-idx1-ubyte.gz\n",
      "Extracting ../data/raw/MNIST/raw/train-labels-idx1-ubyte.gz to ../data/raw/MNIST/raw\n",
      "\n",
      "Downloading http://yann.lecun.com/exdb/mnist/t10k-images-idx3-ubyte.gz\n"
     ]
    },
    {
     "name": "stderr",
     "output_type": "stream",
     "text": [
      "\n",
      "65.6%"
     ]
    },
    {
     "name": "stdout",
     "output_type": "stream",
     "text": [
      "Downloading http://yann.lecun.com/exdb/mnist/t10k-images-idx3-ubyte.gz to ../data/raw/MNIST/raw/t10k-images-idx3-ubyte.gz\n"
     ]
    },
    {
     "name": "stderr",
     "output_type": "stream",
     "text": [
      "100.0%\n",
      "100.0%\n"
     ]
    },
    {
     "name": "stdout",
     "output_type": "stream",
     "text": [
      "Extracting ../data/raw/MNIST/raw/t10k-images-idx3-ubyte.gz to ../data/raw/MNIST/raw\n",
      "\n",
      "Downloading http://yann.lecun.com/exdb/mnist/t10k-labels-idx1-ubyte.gz\n",
      "Downloading http://yann.lecun.com/exdb/mnist/t10k-labels-idx1-ubyte.gz to ../data/raw/MNIST/raw/t10k-labels-idx1-ubyte.gz\n",
      "Extracting ../data/raw/MNIST/raw/t10k-labels-idx1-ubyte.gz to ../data/raw/MNIST/raw\n",
      "\n"
     ]
    }
   ],
   "source": [
    "# Download the dataset\n",
    "transform = transforms.Compose(\n",
    "    [transforms.ToTensor(), transforms.Normalize((0.5,), (0.5,))]\n",
    ")\n",
    "\n",
    "mnist_data = datasets.MNIST(\n",
    "    root=\"../data/raw/\",\n",
    "    train=True,\n",
    "    transform=transforms.ToTensor(),\n",
    "    download=True,\n",
    ")\n",
    "dataloader = DataLoader(mnist_data, batch_size=32, shuffle=True)"
   ]
  },
  {
   "cell_type": "code",
   "execution_count": 9,
   "metadata": {},
   "outputs": [
    {
     "name": "stdout",
     "output_type": "stream",
     "text": [
      "Total number of dataset # 60000 \n",
      "The shape of the dataset # torch.Size([32, 1, 28, 28]) \n"
     ]
    }
   ],
   "source": [
    "# Check the quantity of the dataset\n",
    "total_data = 0\n",
    "\n",
    "for data, label in dataloader:\n",
    "    total_data+=data.shape[0]\n",
    "\n",
    "print(\"Total number of dataset # {} \".format(total_data))\n",
    "print(\"The shape of the dataset # {} \".format(data.shape))"
   ]
  },
  {
   "cell_type": "code",
   "execution_count": 11,
   "metadata": {},
   "outputs": [
    {
     "data": {
      "image/png": "[encoded data removed]",
      "text/plain": [
       "<Figure size 1000x1000 with 32 Axes>"
      ]
     },
     "metadata": {},
     "output_type": "display_data"
    }
   ],
   "source": [
    "# Display the dataset\n",
    "\n",
    "images, _ = next(iter(dataloader))\n",
    "plt.figure(figsize=(10, 10))\n",
    "\n",
    "for index, image in enumerate(images):\n",
    "    plt.subplot(8, 8, index + 1)\n",
    "    plt.imshow(image.view(28, 28), cmap=\"gray\")\n",
    "    plt.axis(\"off\")\n",
    "    \n",
    "plt.tight_layout()\n",
    "plt.show()"
   ]
  },
  {
   "cell_type": "code",
   "execution_count": 38,
   "metadata": {},
   "outputs": [],
   "source": [
    "def calculate_params(model):\n",
    "    total_params = 0\n",
    "    for layer, params in model.named_parameters():\n",
    "        print(\"Layer # {} & params # {} \".format(layer, params.numel()))\n",
    "        total_params += params.numel()\n",
    "\n",
    "    return total_params"
   ]
  },
  {
   "cell_type": "code",
   "execution_count": 36,
   "metadata": {},
   "outputs": [],
   "source": [
    "# Generator model\n",
    "class Generator(nn.Module):\n",
    "    def __init__(self, latent_space=100):\n",
    "        self.latent_space = latent_space\n",
    "        super(Generator, self).__init__()\n",
    "\n",
    "        self.layers_config = [\n",
    "            (self.latent_space, 256, 0.2),\n",
    "            (256, 512, 0.2),\n",
    "            (512, 1024, 0.2),\n",
    "            (1024, 28 * 28),\n",
    "        ]\n",
    "        self.model = self.connected_layer(self.layers_config)\n",
    "\n",
    "    def connected_layer(self, layers_config=None):\n",
    "        layers = OrderedDict()\n",
    "\n",
    "        if layers_config is not None:\n",
    "            for index, (in_features, out_features, negative_slope) in enumerate(\n",
    "                layers_config[:-1]\n",
    "            ):\n",
    "                layers[\"{}_layer\".format(index)] = nn.Linear(\n",
    "                    in_features=in_features, out_features=out_features\n",
    "                )\n",
    "                layers[\"{}_activation\".format(index)] = nn.LeakyReLU(\n",
    "                    negative_slope=negative_slope\n",
    "                )\n",
    "\n",
    "            (in_features, out_features) = layers_config[-1]\n",
    "            layers[\"out_layer\"] = nn.Linear(\n",
    "                in_features=in_features, out_features=out_features\n",
    "            )\n",
    "\n",
    "            return nn.Sequential(layers)\n",
    "\n",
    "        else:\n",
    "            raise Exception(\"Layers is not defined in the Geneator\".capitalize())\n",
    "\n",
    "    def forward(self, x):\n",
    "        if x is not None:\n",
    "            x = self.model(x)\n",
    "        else:\n",
    "            raise Exception(\"Input is not defined in the Genearator\".capitalize())\n",
    "        return x.reshape(-1, 1, 28, 28)"
   ]
  },
  {
   "cell_type": "code",
   "execution_count": 41,
   "metadata": {},
   "outputs": [],
   "source": [
    "# Critic Model\n",
    "\n",
    "class Critic(nn.Module):\n",
    "    def __init__(self):\n",
    "        super(Critic, self).__init__()\n",
    "        self.layers_config = [\n",
    "            (28*28, 1024, 0.2),\n",
    "            (1024, 512, 0.2),\n",
    "            (512, 256, 0.2),\n",
    "            (256, 1)\n",
    "        ]\n",
    "        self.model = self.connected_layer(self.layers_config)\n",
    "    def connected_layer(self, layers_config = None):\n",
    "        layers = OrderedDict()\n",
    "        \n",
    "        if layers_config is not None:\n",
    "            for index, (in_features, out_features, negative_slope) in enumerate(layers_config[:-1]):\n",
    "                layers[\"{}_layer\".format(index)] = nn.Linear(\n",
    "                    in_features = in_features, out_features = out_features)\n",
    "                layers[\"{}_activation\".format(index)] = nn.LeakyReLU(\n",
    "                    negative_slope = negative_slope)\n",
    "            \n",
    "            (in_features, out_features) = layers_config[-1]\n",
    "            layers[\"out_layer\"] = nn.Linear(\n",
    "                in_features = in_features, out_features = out_features)\n",
    "            \n",
    "            return nn.Sequential(layers)\n",
    "        \n",
    "        else:\n",
    "            raise Exception(\"Layers is not defined in the Critic\".capitalize())\n",
    "    \n",
    "    def forward(self, x):\n",
    "        if x is not None:\n",
    "            x = x.reshape(-1, 28*28)\n",
    "            x = self.model(x)\n",
    "        else:\n",
    "            raise Exception(\"Input is not defined in the Critic\".capitalize())\n",
    "        return x"
   ]
  },
  {
   "cell_type": "code",
   "execution_count": 42,
   "metadata": {},
   "outputs": [
    {
     "name": "stdout",
     "output_type": "stream",
     "text": [
      "Generator(\n",
      "  (model): Sequential(\n",
      "    (0_layer): Linear(in_features=100, out_features=256, bias=True)\n",
      "    (0_activation): LeakyReLU(negative_slope=0.2)\n",
      "    (1_layer): Linear(in_features=256, out_features=512, bias=True)\n",
      "    (1_activation): LeakyReLU(negative_slope=0.2)\n",
      "    (2_layer): Linear(in_features=512, out_features=1024, bias=True)\n",
      "    (2_activation): LeakyReLU(negative_slope=0.2)\n",
      "    (out_layer): Linear(in_features=1024, out_features=784, bias=True)\n",
      "  )\n",
      ")\n"
     ]
    }
   ],
   "source": [
    "# Call the Generator\n",
    "if __name__ == \"__main__\":\n",
    "    generator = Generator()\n",
    "    print(generator)"
   ]
  },
  {
   "cell_type": "code",
   "execution_count": 43,
   "metadata": {},
   "outputs": [
    {
     "name": "stdout",
     "output_type": "stream",
     "text": [
      "Critic(\n",
      "  (model): Sequential(\n",
      "    (0_layer): Linear(in_features=784, out_features=1024, bias=True)\n",
      "    (0_activation): LeakyReLU(negative_slope=0.2)\n",
      "    (1_layer): Linear(in_features=1024, out_features=512, bias=True)\n",
      "    (1_activation): LeakyReLU(negative_slope=0.2)\n",
      "    (2_layer): Linear(in_features=512, out_features=256, bias=True)\n",
      "    (2_activation): LeakyReLU(negative_slope=0.2)\n",
      "    (out_layer): Linear(in_features=256, out_features=1, bias=True)\n",
      "  )\n",
      ")\n"
     ]
    }
   ],
   "source": [
    "# Call the Critic\n",
    "if __name__ == '__main__':\n",
    "    critic = Critic()\n",
    "    print(critic)"
   ]
  },
  {
   "cell_type": "code",
   "execution_count": 44,
   "metadata": {},
   "outputs": [
    {
     "name": "stdout",
     "output_type": "stream",
     "text": [
      "Layer # model.0_layer.weight & params # 802816 \n",
      "Layer # model.0_layer.bias & params # 1024 \n",
      "Layer # model.1_layer.weight & params # 524288 \n",
      "Layer # model.1_layer.bias & params # 512 \n",
      "Layer # model.2_layer.weight & params # 131072 \n",
      "Layer # model.2_layer.bias & params # 256 \n",
      "Layer # model.out_layer.weight & params # 256 \n",
      "Layer # model.out_layer.bias & params # 1 \n",
      "\n",
      "TOTAL PARAMETERS OF THE GENERATOR: 1460225\n"
     ]
    }
   ],
   "source": [
    "# Total parameters of the Critic\n",
    "print(\"\\nTotal parameters of the Generator: {}\".format(calculate_params(critic)).upper())"
   ]
  },
  {
   "cell_type": "code",
   "execution_count": 45,
   "metadata": {},
   "outputs": [
    {
     "data": {
      "text/plain": [
       "torch.Size([64, 1, 28, 28])"
      ]
     },
     "execution_count": 45,
     "metadata": {},
     "output_type": "execute_result"
    }
   ],
   "source": [
    "# Check it works or not\n",
    "\n",
    "noise_data = torch.randn(64, 100)\n",
    "generator(noise_data).shape"
   ]
  },
  {
   "cell_type": "code",
   "execution_count": 46,
   "metadata": {},
   "outputs": [
    {
     "name": "stdout",
     "output_type": "stream",
     "text": [
      "Layer # model.0_layer.weight & params # 802816 \n",
      "Layer # model.0_layer.bias & params # 1024 \n",
      "Layer # model.1_layer.weight & params # 524288 \n",
      "Layer # model.1_layer.bias & params # 512 \n",
      "Layer # model.2_layer.weight & params # 131072 \n",
      "Layer # model.2_layer.bias & params # 256 \n",
      "Layer # model.out_layer.weight & params # 256 \n",
      "Layer # model.out_layer.bias & params # 1 \n",
      "\n",
      "TOTAL PARAMETERS OF THE CRITIC: 1460225\n"
     ]
    }
   ],
   "source": [
    "# Total parameters of the Critic\n",
    "print(\"\\nTotal parameters of the Critic: {}\".format(calculate_params(critic)).upper())"
   ]
  },
  {
   "cell_type": "code",
   "execution_count": 47,
   "metadata": {},
   "outputs": [
    {
     "data": {
      "text/plain": [
       "torch.Size([64, 1])"
      ]
     },
     "execution_count": 47,
     "metadata": {},
     "output_type": "execute_result"
    }
   ],
   "source": [
    "# Check it works or not\n",
    "dataset = torch.randn(64, 1, 28, 28)\n",
    "critic(dataset).shape"
   ]
  },
  {
   "cell_type": "code",
   "execution_count": 48,
   "metadata": {},
   "outputs": [
    {
     "data": {
      "text/plain": [
       "device(type='mps')"
      ]
     },
     "execution_count": 48,
     "metadata": {},
     "output_type": "execute_result"
    }
   ],
   "source": [
    "# Call the GPU\n",
    "device = torch.device(\"mps\" if torch.backends.mps.is_available() else \"cpu\")\n",
    "\n",
    "device"
   ]
  },
  {
   "cell_type": "code",
   "execution_count": null,
   "metadata": {},
   "outputs": [],
   "source": [
    "# Define the loss\n",
    "\n",
    "def weight_initialization(model):\n",
    "    if isinstance(model, nn.Linear):\n",
    "        torch.nn.init.normal_(model.weight.data, 0.0, 0.02)"
   ]
  },
  {
   "cell_type": "code",
   "execution_count": 50,
   "metadata": {},
   "outputs": [],
   "source": [
    "# Connect GPU to Generator and Critic\n",
    "critic = Critic().to(device)\n",
    "generator = Generator().to(device)"
   ]
  },
  {
   "cell_type": "code",
   "execution_count": 51,
   "metadata": {},
   "outputs": [],
   "source": [
    "# Initialise the loss and optimizer\n",
    "learning_rate = 0.00002\n",
    "optimizer_G = torch.optim.Adam(generator.parameters(), lr = learning_rate)\n",
    "optimizer_C = torch.optim.Adam(critic.parameters(), lr = learning_rate)"
   ]
  },
  {
   "cell_type": "code",
   "execution_count": 56,
   "metadata": {},
   "outputs": [
    {
     "name": "stdout",
     "output_type": "stream",
     "text": [
      "Epochs - 1/200\n",
      "[===========] g_loss: 3.0879572008617537 - c_loss: -1.569112243684133 \n",
      "Epochs - 2/200\n",
      "[===========] g_loss: 2.1620330883665604 - c_loss: -3.735766441408793 \n",
      "Epochs - 3/200\n",
      "[===========] g_loss: -2.2972094963918974 - c_loss: -3.014802461751302 \n",
      "Epochs - 4/200\n",
      "[===========] g_loss: 4.809587739883585 - c_loss: -2.427871807905038 \n",
      "Epochs - 5/200\n",
      "[===========] g_loss: 0.7897865050175088 - c_loss: -3.1610381850361824 \n",
      "Epochs - 6/200\n",
      "[===========] g_loss: -6.607496530709273 - c_loss: -0.9331416423718134 \n",
      "Epochs - 7/200\n",
      "[===========] g_loss: -0.007801657293655692 - c_loss: -1.3531217958470185 \n",
      "Epochs - 8/200\n",
      "[===========] g_loss: 0.20824757311988543 - c_loss: -3.362273652855555 \n",
      "Epochs - 9/200\n",
      "[===========] g_loss: 0.0883436367668687 - c_loss: -16.431924014715353 \n",
      "Epochs - 10/200\n",
      "[===========] g_loss: 0.9186572503457044 - c_loss: -0.8929717916210492 \n",
      "Epochs - 11/200\n",
      "[===========] g_loss: -2.5802588964876856 - c_loss: -13.95198064886729 \n",
      "Epochs - 12/200\n",
      "[===========] g_loss: 0.4460585163708063 - c_loss: -2.1275634668191272 \n",
      "Epochs - 13/200\n",
      "[===========] g_loss: -0.1270166589640715 - c_loss: -6.2960319744269055 \n",
      "Epochs - 14/200\n",
      "[===========] g_loss: 0.23498513866612253 - c_loss: -2.9594049363454182 \n",
      "Epochs - 15/200\n",
      "[===========] g_loss: -0.21713729075928953 - c_loss: -4.325263294108709 \n",
      "Epochs - 16/200\n",
      "[===========] g_loss: -0.02819482394632824 - c_loss: -4.744395846889416 \n",
      "Epochs - 17/200\n",
      "[===========] g_loss: -0.11727674405506634 - c_loss: -5.19587721751531 \n",
      "Epochs - 18/200\n",
      "[===========] g_loss: -0.19891022907649267 - c_loss: -4.853238498000304 \n",
      "Epochs - 19/200\n",
      "[===========] g_loss: -0.6909326594719227 - c_loss: -3.2910022128502527 \n",
      "Epochs - 20/200\n",
      "[===========] g_loss: -0.18705128926902692 - c_loss: -1.9525702606737614 \n",
      "Epochs - 21/200\n",
      "[===========] g_loss: -0.784377627788072 - c_loss: -4.099030505212148 \n",
      "Epochs - 22/200\n",
      "[===========] g_loss: 0.02107356220701749 - c_loss: -2.8186495025376477 \n",
      "Epochs - 23/200\n",
      "[===========] g_loss: -0.2955117652618742 - c_loss: -3.8987752053340277 \n",
      "Epochs - 24/200\n",
      "[===========] g_loss: -0.3291153488779797 - c_loss: -4.10589902381897 \n",
      "Epochs - 25/200\n",
      "[===========] g_loss: -0.3039423089395178 - c_loss: -3.8155489326536656 \n",
      "Epochs - 26/200\n",
      "[===========] g_loss: -0.000310506116836629 - c_loss: 0.20388334085941315 \n",
      "Epochs - 27/200\n",
      "[===========] g_loss: -0.7592581246404889 - c_loss: -3.9971374700665474 \n",
      "Epochs - 28/200\n",
      "[===========] g_loss: -1.160332247882368 - c_loss: -1.8737982872307302 \n",
      "Epochs - 29/200\n",
      "[===========] g_loss: -0.033505700488990924 - c_loss: -2.7742001667459806 \n",
      "Epochs - 30/200\n",
      "[===========] g_loss: -0.2019821837138226 - c_loss: -3.9179771065592766 \n",
      "Epochs - 31/200\n",
      "[===========] g_loss: -0.48439611058602944 - c_loss: -3.799539609139164 \n",
      "Epochs - 32/200\n",
      "[===========] g_loss: 0.3037735709841264 - c_loss: -0.7973620830694834 \n",
      "Epochs - 33/200\n",
      "[===========] g_loss: 0.25545416162052054 - c_loss: 0.09192300155162811 \n",
      "Epochs - 34/200\n",
      "[===========] g_loss: -0.02573063526366976 - c_loss: -0.371169487135609 \n",
      "Epochs - 35/200\n",
      "[===========] g_loss: -0.42516782378500445 - c_loss: -2.305691513498624 \n",
      "Epochs - 36/200\n",
      "[===========] g_loss: 0.033370014864634326 - c_loss: -1.8484126174390316 \n",
      "Epochs - 37/200\n",
      "[===========] g_loss: -0.2164433187052132 - c_loss: -1.565145350154241 \n",
      "Epochs - 38/200\n",
      "[===========] g_loss: 0.8796643580290231 - c_loss: -1.186795213607947 \n",
      "Epochs - 39/200\n",
      "[===========] g_loss: -0.5371469431680608 - c_loss: -0.17815918773412703 \n",
      "Epochs - 40/200\n",
      "[===========] g_loss: 0.5894681785969024 - c_loss: -1.4075558042724927 \n",
      "Epochs - 41/200\n",
      "[===========] g_loss: 0.3431154172718921 - c_loss: -0.3440930820514758 \n",
      "Epochs - 42/200\n",
      "[===========] g_loss: -0.03930227439652415 - c_loss: -1.4907973627209663 \n",
      "Epochs - 43/200\n",
      "[===========] g_loss: 0.30262940852565967 - c_loss: -0.7956887157976628 \n",
      "Epochs - 44/200\n",
      "[===========] g_loss: 0.5584340695034158 - c_loss: -1.3805314347803592 \n",
      "Epochs - 45/200\n",
      "[===========] g_loss: 0.4381891899999786 - c_loss: -1.5986483977238337 \n",
      "Epochs - 46/200\n",
      "[===========] g_loss: 1.1730448028587914 - c_loss: -1.8551043882369995 \n",
      "Epochs - 47/200\n",
      "[===========] g_loss: -0.23486275039613247 - c_loss: -0.6227186602115631 \n",
      "Epochs - 48/200\n",
      "[===========] g_loss: -0.15653436886582603 - c_loss: -0.40380886805852256 \n",
      "Epochs - 49/200\n",
      "[===========] g_loss: 0.38876707213831707 - c_loss: -1.1785281414538622 \n",
      "Epochs - 50/200\n",
      "[===========] g_loss: 0.6768317411633882 - c_loss: -0.6556729323585828 \n",
      "Epochs - 51/200\n",
      "[===========] g_loss: 0.5264781032827623 - c_loss: -0.37196198265949887 \n",
      "Epochs - 52/200\n",
      "[===========] g_loss: -0.09350772203005692 - c_loss: -1.1138622486829757 \n",
      "Epochs - 53/200\n",
      "[===========] g_loss: -0.30825602929008766 - c_loss: -0.8457016217112541 \n",
      "Epochs - 54/200\n",
      "[===========] g_loss: 0.005273792595463864 - c_loss: -0.987288673766454 \n",
      "Epochs - 55/200\n",
      "[===========] g_loss: 0.14077028804557754 - c_loss: -0.7792098776896794 \n",
      "Epochs - 56/200\n",
      "[===========] g_loss: 0.8739318527737038 - c_loss: -0.8813527654568354 \n",
      "Epochs - 57/200\n",
      "[===========] g_loss: -0.6494791911657345 - c_loss: -0.6948002966721852 \n",
      "Epochs - 58/200\n",
      "[===========] g_loss: -0.2384807660066067 - c_loss: -0.6146874917427699 \n",
      "Epochs - 59/200\n",
      "[===========] g_loss: -0.12338352279658331 - c_loss: -0.6043965600013733 \n",
      "Epochs - 60/200\n",
      "[===========] g_loss: -0.17303746875296247 - c_loss: -0.7488722399870554 \n",
      "Epochs - 61/200\n",
      "[===========] g_loss: -0.22324733594630627 - c_loss: -0.9440050422986348 \n",
      "Epochs - 62/200\n",
      "[===========] g_loss: -0.280780136793297 - c_loss: -1.1117060603141784 \n",
      "Epochs - 63/200\n",
      "[===========] g_loss: -0.2829071744642359 - c_loss: -1.1460224882920582 \n",
      "Epochs - 64/200\n",
      "[===========] g_loss: -0.36254056813591656 - c_loss: -1.3518604402621588 \n",
      "Epochs - 65/200\n",
      "[===========] g_loss: -0.1375749070058636 - c_loss: -1.076792888577779 \n",
      "Epochs - 66/200\n",
      "[===========] g_loss: -0.1705926868351216 - c_loss: -1.2780643430074057 \n",
      "Epochs - 67/200\n",
      "[===========] g_loss: -0.23336669973077925 - c_loss: -1.1854496015866598 \n",
      "Epochs - 68/200\n",
      "[===========] g_loss: -0.5266227400366296 - c_loss: -1.1550787328561147 \n",
      "Epochs - 69/200\n",
      "[===========] g_loss: -0.20012018461018166 - c_loss: -1.2350472952365876 \n",
      "Epochs - 70/200\n",
      "[===========] g_loss: -0.17539235242107448 - c_loss: -1.2612542503992716 \n",
      "Epochs - 71/200\n",
      "[===========] g_loss: -0.16404562427642497 - c_loss: -1.3323128760814666 \n",
      "Epochs - 72/200\n",
      "[===========] g_loss: -0.2607337289509621 - c_loss: -1.3914719492912293 \n",
      "Epochs - 73/200\n",
      "[===========] g_loss: -0.4253147483823147 - c_loss: -1.2034538792292278 \n",
      "Epochs - 74/200\n",
      "[===========] g_loss: -0.3499404216938196 - c_loss: -1.2513252923329672 \n",
      "Epochs - 75/200\n",
      "[===========] g_loss: -0.5170701874538939 - c_loss: -1.081701824315389 \n",
      "Epochs - 76/200\n",
      "[===========] g_loss: -0.47783931212975306 - c_loss: -0.6048734469572703 \n",
      "Epochs - 77/200\n",
      "[===========] g_loss: 0.89676890490537 - c_loss: -0.8906873725016912 \n",
      "Epochs - 78/200\n",
      "[===========] g_loss: 1.0428707694555535 - c_loss: -0.6292843022823333 \n",
      "Epochs - 79/200\n",
      "[===========] g_loss: 0.014477829399340331 - c_loss: -0.6132120158950488 \n",
      "Epochs - 80/200\n",
      "[===========] g_loss: 0.9017569146891857 - c_loss: -0.5063381891707579 \n",
      "Epochs - 81/200\n",
      "[===========] g_loss: -0.4402507475398956 - c_loss: -0.46195762199163437 \n",
      "Epochs - 82/200\n",
      "[===========] g_loss: 0.6464851172541842 - c_loss: -0.550993548916777 \n",
      "Epochs - 83/200\n",
      "[===========] g_loss: 1.0648293412746268 - c_loss: -0.643727423409621 \n",
      "Epochs - 84/200\n",
      "[===========] g_loss: 0.9698183278533372 - c_loss: -0.32770462323029836 \n",
      "Epochs - 85/200\n",
      "[===========] g_loss: -1.6119364234767457 - c_loss: -0.48725752641558645 \n",
      "Epochs - 86/200\n",
      "[===========] g_loss: 0.9022933893361466 - c_loss: -0.36638430755312246 \n",
      "Epochs - 87/200\n",
      "[===========] g_loss: -0.9339911464671109 - c_loss: -0.5861564811470608 \n",
      "Epochs - 88/200\n",
      "[===========] g_loss: 0.6933252849081095 - c_loss: -0.8603356593807538 \n",
      "Epochs - 89/200\n",
      "[===========] g_loss: 0.8423381853610912 - c_loss: -0.713333977351586 \n",
      "Epochs - 90/200\n",
      "[===========] g_loss: -0.9788570070659068 - c_loss: -0.3891498169104258 \n",
      "Epochs - 91/200\n",
      "[===========] g_loss: 0.37226797741382045 - c_loss: -0.39190156343976656 \n",
      "Epochs - 92/200\n",
      "[===========] g_loss: 1.9895210613080478 - c_loss: -0.1074067313666145 \n",
      "Epochs - 93/200\n",
      "[===========] g_loss: -2.9968002182821634 - c_loss: -0.29366208348982037 \n",
      "Epochs - 94/200\n",
      "[===========] g_loss: 3.101527551925485 - c_loss: -0.8896136670807997 \n",
      "Epochs - 95/200\n",
      "[===========] g_loss: 1.4548865479040654 - c_loss: 0.4220661365240812 \n",
      "Epochs - 96/200\n",
      "[===========] g_loss: 0.013442772257320107 - c_loss: 0.0016139235948522885 \n",
      "Epochs - 97/200\n",
      "[===========] g_loss: -4.272610473910971 - c_loss: -0.7233235941710572 \n",
      "Epochs - 98/200\n",
      "[===========] g_loss: 0.7712352773622967 - c_loss: -0.4354944469591292 \n",
      "Epochs - 99/200\n",
      "[===========] g_loss: 1.79012259349544 - c_loss: -0.8423640195290247 \n",
      "Epochs - 100/200\n",
      "[===========] g_loss: 1.3626155893694847 - c_loss: -0.8285860354542732 \n",
      "Epochs - 101/200\n",
      "[===========] g_loss: 0.942276045997092 - c_loss: -0.5991202876001597 \n",
      "Epochs - 102/200\n",
      "[===========] g_loss: 0.054278683392925464 - c_loss: -0.5773717671235402 \n",
      "Epochs - 103/200\n",
      "[===========] g_loss: -0.30437845864551183 - c_loss: -0.7414816632648309 \n",
      "Epochs - 104/200\n",
      "[===========] g_loss: 0.1008116233539074 - c_loss: -0.7108282049417496 \n",
      "Epochs - 105/200\n",
      "[===========] g_loss: 0.1884993960724232 - c_loss: -0.7818660692850748 \n",
      "Epochs - 106/200\n",
      "[===========] g_loss: 1.6689850939239592 - c_loss: -0.7053968942284584 \n",
      "Epochs - 107/200\n",
      "[===========] g_loss: -0.42576866715829426 - c_loss: -0.3403453372458617 \n",
      "Epochs - 108/200\n",
      "[===========] g_loss: 0.6249648505385886 - c_loss: -0.405414179066817 \n",
      "Epochs - 109/200\n",
      "[===========] g_loss: -0.31943574753847526 - c_loss: -0.5074126843074958 \n",
      "Epochs - 110/200\n",
      "[===========] g_loss: -0.8780600911779131 - c_loss: -0.6222514875729879 \n",
      "Epochs - 111/200\n",
      "[===========] g_loss: 0.4876857191482757 - c_loss: -0.6728551793336869 \n",
      "Epochs - 112/200\n",
      "[===========] g_loss: 0.24943794774763445 - c_loss: -0.6885150819500288 \n",
      "Epochs - 113/200\n",
      "[===========] g_loss: 0.20860170380787013 - c_loss: -0.5029723778848847 \n",
      "Epochs - 114/200\n",
      "[===========] g_loss: 0.49830603159151654 - c_loss: -0.47772121586004895 \n",
      "Epochs - 115/200\n",
      "[===========] g_loss: 0.5140378623011899 - c_loss: -0.5853050052026908 \n",
      "Epochs - 116/200\n",
      "[===========] g_loss: -0.09866456220798353 - c_loss: -0.5454792524218559 \n",
      "Epochs - 117/200\n",
      "[===========] g_loss: 0.6009657275565761 - c_loss: -0.4314116443037987 \n",
      "Epochs - 118/200\n",
      "[===========] g_loss: -1.7621888321170465 - c_loss: -0.34924587657401956 \n",
      "Epochs - 119/200\n",
      "[===========] g_loss: 1.0291205925589546 - c_loss: -0.5330276837249597 \n",
      "Epochs - 120/200\n",
      "[===========] g_loss: 1.2395987397535366 - c_loss: -0.5773113057295481 \n",
      "Epochs - 121/200\n",
      "[===========] g_loss: -0.2836671719486092 - c_loss: -0.2979516121029854 \n",
      "Epochs - 122/200\n",
      "[===========] g_loss: -0.7000561462940668 - c_loss: -0.4252480584726979 \n",
      "Epochs - 123/200\n",
      "[===========] g_loss: 0.17457056168387544 - c_loss: -0.5292128846565882 \n",
      "Epochs - 124/200\n",
      "[===========] g_loss: 0.24542182606664745 - c_loss: -0.70457890381217 \n",
      "Epochs - 125/200\n",
      "[===========] g_loss: 0.33380799692996005 - c_loss: -0.4902523861189683 \n",
      "Epochs - 126/200\n",
      "[===========] g_loss: 0.6192437566697915 - c_loss: -0.6576600420117378 \n",
      "Epochs - 127/200\n",
      "[===========] g_loss: 0.3235757904166871 - c_loss: -0.518235421683391 \n",
      "Epochs - 128/200\n",
      "[===========] g_loss: -0.3130940009067033 - c_loss: -0.6557766527692477 \n",
      "Epochs - 129/200\n",
      "[===========] g_loss: 0.5879344154902278 - c_loss: -0.6812351479967436 \n",
      "Epochs - 130/200\n",
      "[===========] g_loss: 0.24660673361033836 - c_loss: -0.46191987429261205 \n",
      "Epochs - 131/200\n",
      "[===========] g_loss: 0.7446188737757187 - c_loss: -0.5933116229613622 \n",
      "Epochs - 132/200\n",
      "[===========] g_loss: 0.8369200206609403 - c_loss: -0.707405394013226 \n",
      "Epochs - 133/200\n",
      "[===========] g_loss: -0.4032262522093159 - c_loss: -0.40205592860380807 \n",
      "Epochs - 134/200\n",
      "[===========] g_loss: 0.644373875824695 - c_loss: -0.7386296193281809 \n",
      "Epochs - 135/200\n",
      "[===========] g_loss: -0.37131259929230237 - c_loss: -0.5473896376430988 \n",
      "Epochs - 136/200\n",
      "[===========] g_loss: -0.3138470788228702 - c_loss: -0.5660655469417571 \n",
      "Epochs - 137/200\n",
      "[===========] g_loss: 0.7750123589487865 - c_loss: -0.24950098790029684 \n",
      "Epochs - 138/200\n",
      "[===========] g_loss: -1.0122650279960734 - c_loss: -0.5259566133717696 \n",
      "Epochs - 139/200\n",
      "[===========] g_loss: 0.505354604981047 - c_loss: -0.3720450302928686 \n",
      "Epochs - 140/200\n",
      "[===========] g_loss: -0.3845570623438726 - c_loss: -0.4386075995087624 \n",
      "Epochs - 141/200\n",
      "[===========] g_loss: 0.5266374509504184 - c_loss: -0.4255901165962219 \n",
      "Epochs - 142/200\n",
      "[===========] g_loss: 0.7892913487541707 - c_loss: -0.5596427785555521 \n",
      "Epochs - 143/200\n",
      "[===========] g_loss: -0.06615619731948097 - c_loss: -0.6797681658248107 \n",
      "Epochs - 144/200\n",
      "[===========] g_loss: -0.10362961943796341 - c_loss: -0.6420445879856745 \n",
      "Epochs - 145/200\n",
      "[===========] g_loss: 0.2786305352173587 - c_loss: -0.7881814313729604 \n",
      "Epochs - 146/200\n",
      "[===========] g_loss: 0.18217809610762337 - c_loss: -0.8046756513913472 \n",
      "Epochs - 147/200\n",
      "[===========] g_loss: 0.33672885766173616 - c_loss: -0.948630022507906 \n",
      "Epochs - 148/200\n",
      "[===========] g_loss: -0.2624249522316646 - c_loss: -0.8291270040730635 \n",
      "Epochs - 149/200\n",
      "[===========] g_loss: 0.05027793360715534 - c_loss: -0.9033743861993154 \n",
      "Epochs - 150/200\n",
      "[===========] g_loss: -0.23043328094137636 - c_loss: -1.0481509026845297 \n",
      "Epochs - 151/200\n",
      "[===========] g_loss: -0.2348842817665811 - c_loss: -0.8210356857697169 \n",
      "Epochs - 152/200\n",
      "[===========] g_loss: -0.36879461897695637 - c_loss: -0.5882609581371149 \n",
      "Epochs - 153/200\n",
      "[===========] g_loss: -0.09734115666372979 - c_loss: -0.662539119164149 \n",
      "Epochs - 154/200\n",
      "[===========] g_loss: 0.28187369884170116 - c_loss: -0.6479348885039489 \n",
      "Epochs - 155/200\n",
      "[===========] g_loss: 0.6289038673796236 - c_loss: -0.6596425241152446 \n",
      "Epochs - 156/200\n",
      "[===========] g_loss: 0.11917705604053558 - c_loss: -0.5831848880449931 \n",
      "Epochs - 157/200\n",
      "[===========] g_loss: 0.2853030070979544 - c_loss: -0.6509154071172079 \n",
      "Epochs - 158/200\n",
      "[===========] g_loss: 0.4525048305141799 - c_loss: -0.680098718671004 \n",
      "Epochs - 159/200\n",
      "[===========] g_loss: 0.7204039672667042 - c_loss: -0.475733753712972 \n",
      "Epochs - 160/200\n",
      "[===========] g_loss: -0.6324772997709744 - c_loss: -0.10775536801218986 \n",
      "Epochs - 161/200\n",
      "[===========] g_loss: 0.3537383271886551 - c_loss: -0.7318764629642168 \n",
      "Epochs - 162/200\n",
      "[===========] g_loss: 1.4826811173276857 - c_loss: -0.5988065151810646 \n",
      "Epochs - 163/200\n",
      "[===========] g_loss: 0.20432517249533472 - c_loss: -0.2636365274310112 \n",
      "Epochs - 164/200\n",
      "[===========] g_loss: 0.5001265255764048 - c_loss: -0.3607100918573638 \n",
      "Epochs - 165/200\n",
      "[===========] g_loss: -1.2677692825053917 - c_loss: -0.20499924461469055 \n",
      "Epochs - 166/200\n",
      "[===========] g_loss: 2.7049118062503577 - c_loss: -0.367293863641688 \n",
      "Epochs - 167/200\n",
      "[===========] g_loss: -3.2446824878929776 - c_loss: -0.32356171406904854 \n",
      "Epochs - 168/200\n",
      "[===========] g_loss: 3.4365549676325866 - c_loss: -0.8576485000628667 \n",
      "Epochs - 169/200\n",
      "[===========] g_loss: 1.3750764319547477 - c_loss: 0.40263267815591147 \n",
      "Epochs - 170/200\n",
      "[===========] g_loss: -5.17474300212207 - c_loss: -0.6967858298997084 \n",
      "Epochs - 171/200\n",
      "[===========] g_loss: -0.0013403680662877184 - c_loss: 0.0046470947727561 \n",
      "Epochs - 172/200\n",
      "[===========] g_loss: 7.074857476479473 - c_loss: -1.0573277252902586 \n",
      "Epochs - 173/200\n",
      "[===========] g_loss: 0.15600900699761003 - c_loss: 0.13985082969566187 \n",
      "Epochs - 174/200\n",
      "[===========] g_loss: 0.01542018151326858 - c_loss: 0.003111166635652383 \n",
      "Epochs - 175/200\n",
      "[===========] g_loss: 0.011456607672524578 - c_loss: -0.0005272359728813171 \n",
      "Epochs - 176/200\n",
      "[===========] g_loss: -5.857519890498766 - c_loss: -0.9934475627298156 \n",
      "Epochs - 177/200\n",
      "[===========] g_loss: -0.04714555375307719 - c_loss: 0.02665271434125801 \n",
      "Epochs - 178/200\n",
      "[===========] g_loss: 7.568318803348836 - c_loss: -1.7564148907467723 \n",
      "Epochs - 179/200\n",
      "[===========] g_loss: 0.8124183576078491 - c_loss: 0.6002724522938331 \n",
      "Epochs - 180/200\n",
      "[===========] g_loss: 0.013619032946038754 - c_loss: 0.006017455426355203 \n",
      "Epochs - 181/200\n",
      "[===========] g_loss: 0.01015521096996963 - c_loss: 0.00028359013398488364 \n",
      "Epochs - 182/200\n",
      "[===========] g_loss: -0.003869690515281771 - c_loss: -0.04242266170332829 \n",
      "Epochs - 183/200\n",
      "[===========] g_loss: -6.134638369796758 - c_loss: -1.027782777941227 \n",
      "Epochs - 184/200\n",
      "[===========] g_loss: 3.3982506884180537 - c_loss: -1.4619387520241862 \n",
      "Epochs - 185/200\n",
      "[===========] g_loss: 5.008069419520015 - c_loss: 0.36975687814156216 \n",
      "Epochs - 186/200\n",
      "[===========] g_loss: 0.021790991958349624 - c_loss: 0.008917244802415372 \n",
      "Epochs - 187/200\n",
      "[===========] g_loss: 0.011734618706272003 - c_loss: -3.257285505533218e-05 \n",
      "Epochs - 188/200\n",
      "[===========] g_loss: -5.763232247808582 - c_loss: -1.1446101074201365 \n",
      "Epochs - 189/200\n",
      "[===========] g_loss: -0.36141796107876095 - c_loss: 0.1725867261002461 \n",
      "Epochs - 190/200\n",
      "[===========] g_loss: 8.76445310392437 - c_loss: -1.2155826425999403 \n",
      "Epochs - 191/200\n",
      "[===========] g_loss: 0.11873335523055271 - c_loss: 0.08075702222287655 \n",
      "Epochs - 192/200\n",
      "[===========] g_loss: 0.012902680972709935 - c_loss: 0.0024946803952256838 \n",
      "Epochs - 193/200\n",
      "[===========] g_loss: 0.010066071485585354 - c_loss: 0.00010879221906264624 \n",
      "Epochs - 194/200\n",
      "[===========] g_loss: -6.428704831579222 - c_loss: -0.9718833345159889 \n",
      "Epochs - 195/200\n",
      "[===========] g_loss: -0.13698462108585133 - c_loss: 0.05846639736195405 \n",
      "Epochs - 196/200\n",
      "[===========] g_loss: 6.437502473944481 - c_loss: -1.6348484341497223 \n",
      "Epochs - 197/200\n",
      "[===========] g_loss: 1.54664163129959 - c_loss: 0.6878253990302483 \n",
      "Epochs - 198/200\n",
      "[===========] g_loss: 0.014322381610288582 - c_loss: 0.004836425511538982 \n",
      "Epochs - 199/200\n",
      "[===========] g_loss: 0.010479508042137356 - c_loss: -8.491750607887904e-05 \n",
      "Epochs - 200/200\n",
      "[===========] g_loss: 0.012391294843140752 - c_loss: -0.0022554341822862626 \n"
     ]
    }
   ],
   "source": [
    "epochs = 200\n",
    "latent_space = 100\n",
    "\n",
    "for epoch in range(epochs):\n",
    "    critic_loss = list()\n",
    "    generated_loss = list()\n",
    "\n",
    "    for index, (real_samples, labels) in enumerate(dataloader):\n",
    "        real_samples = real_samples.to(device)\n",
    "        batch_size = real_samples.shape[0]\n",
    "\n",
    "        noise_samples = torch.randn(batch_size, latent_space).to(device)\n",
    "        fake_samples = generator(noise_samples)\n",
    "\n",
    "        real_predict = critic(real_samples)\n",
    "        fake_predict = critic(fake_samples.detach())\n",
    "\n",
    "        total_loss = -torch.mean(real_predict) + torch.mean(fake_predict)\n",
    "\n",
    "        critic_loss.append(total_loss.item())\n",
    "\n",
    "        optimizer_C.zero_grad()\n",
    "        total_loss.backward()\n",
    "        optimizer_C.step()\n",
    "\n",
    "        # weight clipping in the Critics to prevent the vanishing gradient\n",
    "        for params in critic.parameters():\n",
    "            params.data.clamp_(min=-0.01, max=0.01)\n",
    "\n",
    "        if index % 10 == 0:\n",
    "            generated_samples = generator(noise_samples)\n",
    "            generator_loss = -torch.mean(critic(generated_samples))\n",
    "\n",
    "            generated_loss.append(generator_loss.item())\n",
    "\n",
    "            optimizer_G.zero_grad()\n",
    "            generator_loss.backward()\n",
    "            optimizer_G.step()\n",
    "\n",
    "    print(\"Epochs - {}/{}\".format(epoch + 1, epochs))\n",
    "    print(\n",
    "        \"[===========] g_loss: {} - c_loss: {} \".format(\n",
    "            np.array(generated_loss).mean(), np.array(critic_loss).mean()\n",
    "        )\n",
    "    )"
   ]
  },
  {
   "cell_type": "code",
   "execution_count": 59,
   "metadata": {},
   "outputs": [
    {
     "data": {
      "image/png": "[encoded data removed]",
      "text/plain": [
       "<Figure size 800x800 with 20 Axes>"
      ]
     },
     "metadata": {},
     "output_type": "display_data"
    }
   ],
   "source": [
    "# Plot the Generated samples\n",
    "noise_samples = torch.randn(20, latent_space).to(device)\n",
    "generated_samples = generator(noise_samples).cpu().detach().numpy()\n",
    "\n",
    "plt.figure(figsize=(8, 8))\n",
    "\n",
    "for index, image in enumerate(generated_samples):\n",
    "    plt.subplot(4, 5, index + 1)\n",
    "    plt.imshow(image.reshape(28, 28))\n",
    "    plt.axis(\"off\")\n",
    "\n",
    "plt.show()"
   ]
  },
  {
   "cell_type": "code",
   "execution_count": null,
   "metadata": {},
   "outputs": [],
   "source": []
  }
 ],
 "metadata": {
  "kernelspec": {
   "display_name": "GPSG",
   "language": "python",
   "name": "python3"
  },
  "language_info": {
   "codemirror_mode": {
    "name": "ipython",
    "version": 3
   },
   "file_extension": ".py",
   "mimetype": "text/x-python",
   "name": "python",
   "nbconvert_exporter": "python",
   "pygments_lexer": "ipython3",
   "version": "3.9.18"
  }
 },
 "nbformat": 4,
 "nbformat_minor": 2
}
