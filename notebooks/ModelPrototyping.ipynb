{
 "cells": [
  {
   "cell_type": "code",
   "execution_count": 1,
   "metadata": {},
   "outputs": [],
   "source": [
    "import warnings\n",
    "\n",
    "warnings.filterwarnings(\"ignore\")\n",
    "\n",
    "import numpy as np\n",
    "import pandas as pd\n",
    "import matplotlib.pyplot as plt\n",
    "import torch\n",
    "import torch.nn as nn\n",
    "import torch.optim as optim\n",
    "from torchvision import datasets, transforms\n",
    "from torch.utils.data import DataLoader\n",
    "from collections import OrderedDict"
   ]
  },
  {
   "cell_type": "code",
   "execution_count": 2,
   "metadata": {},
   "outputs": [
    {
     "name": "stderr",
     "output_type": "stream",
     "text": [
      "2.0%"
     ]
    },
    {
     "name": "stdout",
     "output_type": "stream",
     "text": [
      "Downloading http://yann.lecun.com/exdb/mnist/train-images-idx3-ubyte.gz\n",
      "Downloading http://yann.lecun.com/exdb/mnist/train-images-idx3-ubyte.gz to ../data/raw/MNIST/raw/train-images-idx3-ubyte.gz\n"
     ]
    },
    {
     "name": "stderr",
     "output_type": "stream",
     "text": [
      "100.0%\n"
     ]
    },
    {
     "name": "stdout",
     "output_type": "stream",
     "text": [
      "Extracting ../data/raw/MNIST/raw/train-images-idx3-ubyte.gz to ../data/raw/MNIST/raw\n",
      "\n",
      "Downloading http://yann.lecun.com/exdb/mnist/train-labels-idx1-ubyte.gz\n"
     ]
    },
    {
     "name": "stderr",
     "output_type": "stream",
     "text": [
      "100.0%"
     ]
    },
    {
     "name": "stdout",
     "output_type": "stream",
     "text": [
      "Downloading http://yann.lecun.com/exdb/mnist/train-labels-idx1-ubyte.gz to ../data/raw/MNIST/raw/train-labels-idx1-ubyte.gz\n",
      "Extracting ../data/raw/MNIST/raw/train-labels-idx1-ubyte.gz to ../data/raw/MNIST/raw\n",
      "\n",
      "Downloading http://yann.lecun.com/exdb/mnist/t10k-images-idx3-ubyte.gz\n"
     ]
    },
    {
     "name": "stderr",
     "output_type": "stream",
     "text": [
      "\n",
      "65.6%"
     ]
    },
    {
     "name": "stdout",
     "output_type": "stream",
     "text": [
      "Downloading http://yann.lecun.com/exdb/mnist/t10k-images-idx3-ubyte.gz to ../data/raw/MNIST/raw/t10k-images-idx3-ubyte.gz\n"
     ]
    },
    {
     "name": "stderr",
     "output_type": "stream",
     "text": [
      "100.0%\n",
      "100.0%\n"
     ]
    },
    {
     "name": "stdout",
     "output_type": "stream",
     "text": [
      "Extracting ../data/raw/MNIST/raw/t10k-images-idx3-ubyte.gz to ../data/raw/MNIST/raw\n",
      "\n",
      "Downloading http://yann.lecun.com/exdb/mnist/t10k-labels-idx1-ubyte.gz\n",
      "Downloading http://yann.lecun.com/exdb/mnist/t10k-labels-idx1-ubyte.gz to ../data/raw/MNIST/raw/t10k-labels-idx1-ubyte.gz\n",
      "Extracting ../data/raw/MNIST/raw/t10k-labels-idx1-ubyte.gz to ../data/raw/MNIST/raw\n",
      "\n"
     ]
    }
   ],
   "source": [
    "# Download the dataset\n",
    "transform = transforms.Compose(\n",
    "    [transforms.ToTensor(), transforms.Normalize((0.5,), (0.5,))]\n",
    ")\n",
    "\n",
    "mnist_data = datasets.MNIST(\n",
    "    root=\"../data/raw/\",\n",
    "    train=True,\n",
    "    transform=transforms.ToTensor(),\n",
    "    download=True,\n",
    ")\n",
    "dataloader = DataLoader(mnist_data, batch_size=32, shuffle=True)"
   ]
  },
  {
   "cell_type": "code",
   "execution_count": 9,
   "metadata": {},
   "outputs": [
    {
     "name": "stdout",
     "output_type": "stream",
     "text": [
      "Total number of dataset # 60000 \n",
      "The shape of the dataset # torch.Size([32, 1, 28, 28]) \n"
     ]
    }
   ],
   "source": [
    "# Check the quantity of the dataset\n",
    "total_data = 0\n",
    "\n",
    "for data, label in dataloader:\n",
    "    total_data+=data.shape[0]\n",
    "\n",
    "print(\"Total number of dataset # {} \".format(total_data))\n",
    "print(\"The shape of the dataset # {} \".format(data.shape))"
   ]
  },
  {
   "cell_type": "code",
   "execution_count": 11,
   "metadata": {},
   "outputs": [
    {
     "data": {
      "image/png": "[encoded data removed]",
      "text/plain": [
       "<Figure size 1000x1000 with 32 Axes>"
      ]
     },
     "metadata": {},
     "output_type": "display_data"
    }
   ],
   "source": [
    "# Display the dataset\n",
    "\n",
    "images, _ = next(iter(dataloader))\n",
    "plt.figure(figsize=(10, 10))\n",
    "\n",
    "for index, image in enumerate(images):\n",
    "    plt.subplot(8, 8, index + 1)\n",
    "    plt.imshow(image.view(28, 28), cmap=\"gray\")\n",
    "    plt.axis(\"off\")\n",
    "    \n",
    "plt.tight_layout()\n",
    "plt.show()"
   ]
  },
  {
   "cell_type": "code",
   "execution_count": 38,
   "metadata": {},
   "outputs": [],
   "source": [
    "def calculate_params(model):\n",
    "    total_params = 0\n",
    "    for layer, params in model.named_parameters():\n",
    "        print(\"Layer # {} & params # {} \".format(layer, params.numel()))\n",
    "        total_params += params.numel()\n",
    "\n",
    "    return total_params"
   ]
  },
  {
   "cell_type": "code",
   "execution_count": 36,
   "metadata": {},
   "outputs": [],
   "source": [
    "# Generator model\n",
    "class Generator(nn.Module):\n",
    "    def __init__(self, latent_space=100):\n",
    "        self.latent_space = latent_space\n",
    "        super(Generator, self).__init__()\n",
    "\n",
    "        self.layers_config = [\n",
    "            (self.latent_space, 256, 0.2),\n",
    "            (256, 512, 0.2),\n",
    "            (512, 1024, 0.2),\n",
    "            (1024, 28 * 28),\n",
    "        ]\n",
    "        self.model = self.connected_layer(self.layers_config)\n",
    "\n",
    "    def connected_layer(self, layers_config=None):\n",
    "        layers = OrderedDict()\n",
    "\n",
    "        if layers_config is not None:\n",
    "            for index, (in_features, out_features, negative_slope) in enumerate(\n",
    "                layers_config[:-1]\n",
    "            ):\n",
    "                layers[\"{}_layer\".format(index)] = nn.Linear(\n",
    "                    in_features=in_features, out_features=out_features\n",
    "                )\n",
    "                layers[\"{}_activation\".format(index)] = nn.LeakyReLU(\n",
    "                    negative_slope=negative_slope\n",
    "                )\n",
    "\n",
    "            (in_features, out_features) = layers_config[-1]\n",
    "            layers[\"out_layer\"] = nn.Linear(\n",
    "                in_features=in_features, out_features=out_features\n",
    "            )\n",
    "\n",
    "            return nn.Sequential(layers)\n",
    "\n",
    "        else:\n",
    "            raise Exception(\"Layers is not defined in the Geneator\".capitalize())\n",
    "\n",
    "    def forward(self, x):\n",
    "        if x is not None:\n",
    "            x = self.model(x)\n",
    "        else:\n",
    "            raise Exception(\"Input is not defined in the Genearator\".capitalize())\n",
    "        return x.reshape(-1, 1, 28, 28)"
   ]
  },
  {
   "cell_type": "code",
   "execution_count": 41,
   "metadata": {},
   "outputs": [],
   "source": [
    "# Critic Model\n",
    "\n",
    "class Critic(nn.Module):\n",
    "    def __init__(self):\n",
    "        super(Critic, self).__init__()\n",
    "        self.layers_config = [\n",
    "            (28*28, 1024, 0.2),\n",
    "            (1024, 512, 0.2),\n",
    "            (512, 256, 0.2),\n",
    "            (256, 1)\n",
    "        ]\n",
    "        self.model = self.connected_layer(self.layers_config)\n",
    "    def connected_layer(self, layers_config = None):\n",
    "        layers = OrderedDict()\n",
    "        \n",
    "        if layers_config is not None:\n",
    "            for index, (in_features, out_features, negative_slope) in enumerate(layers_config[:-1]):\n",
    "                layers[\"{}_layer\".format(index)] = nn.Linear(\n",
    "                    in_features = in_features, out_features = out_features)\n",
    "                layers[\"{}_activation\".format(index)] = nn.LeakyReLU(\n",
    "                    negative_slope = negative_slope)\n",
    "            \n",
    "            (in_features, out_features) = layers_config[-1]\n",
    "            layers[\"out_layer\"] = nn.Linear(\n",
    "                in_features = in_features, out_features = out_features)\n",
    "            \n",
    "            return nn.Sequential(layers)\n",
    "        \n",
    "        else:\n",
    "            raise Exception(\"Layers is not defined in the Critic\".capitalize())\n",
    "    \n",
    "    def forward(self, x):\n",
    "        if x is not None:\n",
    "            x = x.reshape(-1, 28*28)\n",
    "            x = self.model(x)\n",
    "        else:\n",
    "            raise Exception(\"Input is not defined in the Critic\".capitalize())\n",
    "        return x"
   ]
  },
  {
   "cell_type": "code",
   "execution_count": 42,
   "metadata": {},
   "outputs": [
    {
     "name": "stdout",
     "output_type": "stream",
     "text": [
      "Generator(\n",
      "  (model): Sequential(\n",
      "    (0_layer): Linear(in_features=100, out_features=256, bias=True)\n",
      "    (0_activation): LeakyReLU(negative_slope=0.2)\n",
      "    (1_layer): Linear(in_features=256, out_features=512, bias=True)\n",
      "    (1_activation): LeakyReLU(negative_slope=0.2)\n",
      "    (2_layer): Linear(in_features=512, out_features=1024, bias=True)\n",
      "    (2_activation): LeakyReLU(negative_slope=0.2)\n",
      "    (out_layer): Linear(in_features=1024, out_features=784, bias=True)\n",
      "  )\n",
      ")\n"
     ]
    }
   ],
   "source": [
    "# Call the Generator\n",
    "if __name__ == \"__main__\":\n",
    "    generator = Generator()\n",
    "    print(generator)"
   ]
  },
  {
   "cell_type": "code",
   "execution_count": 43,
   "metadata": {},
   "outputs": [
    {
     "name": "stdout",
     "output_type": "stream",
     "text": [
      "Critic(\n",
      "  (model): Sequential(\n",
      "    (0_layer): Linear(in_features=784, out_features=1024, bias=True)\n",
      "    (0_activation): LeakyReLU(negative_slope=0.2)\n",
      "    (1_layer): Linear(in_features=1024, out_features=512, bias=True)\n",
      "    (1_activation): LeakyReLU(negative_slope=0.2)\n",
      "    (2_layer): Linear(in_features=512, out_features=256, bias=True)\n",
      "    (2_activation): LeakyReLU(negative_slope=0.2)\n",
      "    (out_layer): Linear(in_features=256, out_features=1, bias=True)\n",
      "  )\n",
      ")\n"
     ]
    }
   ],
   "source": [
    "# Call the Critic\n",
    "if __name__ == '__main__':\n",
    "    critic = Critic()\n",
    "    print(critic)"
   ]
  },
  {
   "cell_type": "code",
   "execution_count": 44,
   "metadata": {},
   "outputs": [
    {
     "name": "stdout",
     "output_type": "stream",
     "text": [
      "Layer # model.0_layer.weight & params # 802816 \n",
      "Layer # model.0_layer.bias & params # 1024 \n",
      "Layer # model.1_layer.weight & params # 524288 \n",
      "Layer # model.1_layer.bias & params # 512 \n",
      "Layer # model.2_layer.weight & params # 131072 \n",
      "Layer # model.2_layer.bias & params # 256 \n",
      "Layer # model.out_layer.weight & params # 256 \n",
      "Layer # model.out_layer.bias & params # 1 \n",
      "\n",
      "TOTAL PARAMETERS OF THE GENERATOR: 1460225\n"
     ]
    }
   ],
   "source": [
    "# Total parameters of the Critic\n",
    "print(\"\\nTotal parameters of the Generator: {}\".format(calculate_params(critic)).upper())"
   ]
  },
  {
   "cell_type": "code",
   "execution_count": 45,
   "metadata": {},
   "outputs": [
    {
     "data": {
      "text/plain": [
       "torch.Size([64, 1, 28, 28])"
      ]
     },
     "execution_count": 45,
     "metadata": {},
     "output_type": "execute_result"
    }
   ],
   "source": [
    "# Check it works or not\n",
    "\n",
    "noise_data = torch.randn(64, 100)\n",
    "generator(noise_data).shape"
   ]
  },
  {
   "cell_type": "code",
   "execution_count": 46,
   "metadata": {},
   "outputs": [
    {
     "name": "stdout",
     "output_type": "stream",
     "text": [
      "Layer # model.0_layer.weight & params # 802816 \n",
      "Layer # model.0_layer.bias & params # 1024 \n",
      "Layer # model.1_layer.weight & params # 524288 \n",
      "Layer # model.1_layer.bias & params # 512 \n",
      "Layer # model.2_layer.weight & params # 131072 \n",
      "Layer # model.2_layer.bias & params # 256 \n",
      "Layer # model.out_layer.weight & params # 256 \n",
      "Layer # model.out_layer.bias & params # 1 \n",
      "\n",
      "TOTAL PARAMETERS OF THE CRITIC: 1460225\n"
     ]
    }
   ],
   "source": [
    "# Total parameters of the Critic\n",
    "print(\"\\nTotal parameters of the Critic: {}\".format(calculate_params(critic)).upper())"
   ]
  },
  {
   "cell_type": "code",
   "execution_count": 47,
   "metadata": {},
   "outputs": [
    {
     "data": {
      "text/plain": [
       "torch.Size([64, 1])"
      ]
     },
     "execution_count": 47,
     "metadata": {},
     "output_type": "execute_result"
    }
   ],
   "source": [
    "# Check it works or not\n",
    "dataset = torch.randn(64, 1, 28, 28)\n",
    "critic(dataset).shape"
   ]
  },
  {
   "cell_type": "code",
   "execution_count": null,
   "metadata": {},
   "outputs": [],
   "source": []
  }
 ],
 "metadata": {
  "kernelspec": {
   "display_name": "GPSG",
   "language": "python",
   "name": "python3"
  },
  "language_info": {
   "codemirror_mode": {
    "name": "ipython",
    "version": 3
   },
   "file_extension": ".py",
   "mimetype": "text/x-python",
   "name": "python",
   "nbconvert_exporter": "python",
   "pygments_lexer": "ipython3",
   "version": "3.9.18"
  }
 },
 "nbformat": 4,
 "nbformat_minor": 2
}
